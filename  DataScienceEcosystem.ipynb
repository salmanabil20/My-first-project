{
 "cells": [
  {
   "cell_type": "markdown",
   "id": "aee28eda",
   "metadata": {},
   "source": [
    "# Data Sceince Tool and Eco system"
   ]
  },
  {
   "cell_type": "code",
   "execution_count": null,
   "id": "6db65cdc",
   "metadata": {},
   "outputs": [],
   "source": [
    "In this notebook, Data Science Tools and Ecosystem are summarized."
   ]
  },
  {
   "cell_type": "markdown",
   "id": "971e22b7",
   "metadata": {},
   "source": [
    "Some of the popular languages that Data Scientists use are:\n",
    "1.Python\n",
    "2.Julia \n",
    "3.Java\n",
    "4.R"
   ]
  },
  {
   "cell_type": "markdown",
   "id": "b8b38061",
   "metadata": {},
   "source": [
    "Some of the commonly used libraries used by Data Scientists include:\n",
    "1.Numpy\n",
    "2.Pandas \n",
    "3.NLTK\n",
    "4.GGplot "
   ]
  },
  {
   "cell_type": "markdown",
   "id": "103e0026",
   "metadata": {},
   "source": [
    "|Data Science Tools|\n",
    "|------------------|\n",
    "|Jupyter Notebook  |\n",
    "|Anaconda          |\n",
    "|Rstudio.          |"
   ]
  },
  {
   "cell_type": "markdown",
   "id": "7e8354a0",
   "metadata": {},
   "source": [
    "### Below are a few examples of evaluating arithmetic expressions in Python :"
   ]
  },
  {
   "cell_type": "code",
   "execution_count": 1,
   "id": "c3bad925",
   "metadata": {},
   "outputs": [
    {
     "data": {
      "text/plain": [
       "17"
      ]
     },
     "execution_count": 1,
     "metadata": {},
     "output_type": "execute_result"
    }
   ],
   "source": [
    "# This a simple arithmetic expression to mutiply then add integers.\n",
    "(3*4)+5\n"
   ]
  },
  {
   "cell_type": "code",
   "execution_count": 2,
   "id": "db454d76",
   "metadata": {},
   "outputs": [
    {
     "data": {
      "text/plain": [
       "3.3333333333333335"
      ]
     },
     "execution_count": 2,
     "metadata": {},
     "output_type": "execute_result"
    }
   ],
   "source": [
    "# This will convert 200 minutes to hours by diving by 60.\n",
    "200/60"
   ]
  },
  {
   "cell_type": "markdown",
   "id": "22923c15",
   "metadata": {},
   "source": [
    "** Objectives**:\n",
    ".Rstudio\n",
    ".jupyter Notebook \n",
    ".Anaconda\n",
    ".Github"
   ]
  },
  {
   "cell_type": "markdown",
   "id": "345b14ea",
   "metadata": {},
   "source": [
    "## Author :\n",
    "Salma Nabil"
   ]
  }
 ],
 "metadata": {
  "kernelspec": {
   "display_name": "Python 3 (ipykernel)",
   "language": "python",
   "name": "python3"
  },
  "language_info": {
   "codemirror_mode": {
    "name": "ipython",
    "version": 3
   },
   "file_extension": ".py",
   "mimetype": "text/x-python",
   "name": "python",
   "nbconvert_exporter": "python",
   "pygments_lexer": "ipython3",
   "version": "3.11.3"
  }
 },
 "nbformat": 4,
 "nbformat_minor": 5
}
